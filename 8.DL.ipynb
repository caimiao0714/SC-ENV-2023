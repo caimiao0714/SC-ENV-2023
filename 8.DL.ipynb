{
  "cells": [
    {
      "cell_type": "raw",
      "metadata": {},
      "source": [
        "---\n",
        "title: 深度学习\n",
        "linkcolor: '#08519c'\n",
        "navbar: right\n",
        "---"
      ],
      "id": "b1040a3d"
    },
    {
      "cell_type": "markdown",
      "metadata": {},
      "source": [
        "# autoML\n",
        "\n",
        "- [AutoML: An Introduction Using Auto-Sklearn and Auto-PyTorch](https://www.exxactcorp.com/blog/Deep-Learning/automl-an-introduction-using-auto-sklearn-and-auto-pytorch)\n",
        "- [2nd AutoML Fall School 2022](https://sites.google.com/view/automl-fall-school-2022/home)\n",
        "\n",
        "## autoML框架\n",
        "\n",
        "- [AutoGluon for tabular prediction](https://auto.gluon.ai/0.2.0/tutorials/tabular_prediction/tabular-quickstart.html)\n",
        "  + [AutoGluon documentation](https://auto.gluon.ai/stable/index.html): AutoGluon enables easy-to-use and easy-to-extend AutoML with a focus on automated stack ensembling, deep learning, and real-world applications spanning text, image, and tabular data. Intended for both ML beginners and experts, AutoGluon enables you to:\n",
        "  + Quickly prototype deep learning and classical ML solutions for your raw data with a few lines of code.\n",
        "  + Automatically utilize state-of-the-art techniques (where appropriate) without expert knowledge.\n",
        "  + Leverage automatic hyperparameter tuning, model selection/ensembling, architecture search, and data processing.\n",
        "  + Easily improve/tune your bespoke models and data pipelines, or customize AutoGluon for your use-case.\n",
        "- [H2O4GPU](https://github.com/h2oai/h2o4gpu): The Python API builds upon the easy-to-use scikit-learn API and its well-tested CPU-based algorithms. It can be used as a drop-in replacement for scikit-learn (i.e. import h2o4gpu as sklearn) with support for GPUs on selected (and ever-growing) algorithms.\n",
        "- [Auto-PyTorch](https://github.com/automl/Auto-PyTorch): While early AutoML frameworks focused on optimizing traditional **ML pipelines** and their **hyperparameters**, another trend in AutoML is to focus on **neural architecture search**. To bring the best of these two worlds together, we developed Auto-PyTorch, which jointly and robustly optimizes the network architecture and the training hyperparameters to enable fully automated deep learning (AutoDL).\n",
        "\n",
        "## `AutoGLuon` for tabular prediction\n",
        "\n",
        "[`AutoGLuon` cheat sheet](https://nbviewer.org/github/Innixma/autogluon-doc-utils/blob/main/docs/cheatsheets/stable/autogluon-cheat-sheet.pdf)\n",
        "\n",
        "### 安装包\n",
        "\n",
        "以下展示的是Linux系统上使用`pip`安装基于GPU的`AutoGLuon`。\n"
      ],
      "id": "50e9841f"
    },
    {
      "cell_type": "code",
      "metadata": {},
      "source": [
        "python3 -m pip install -U pip\n",
        "python3 -m pip install -U setuptools wheel\n",
        "\n",
        "# Here we assume CUDA 10.1 is installed.  You should change the number\n",
        "# according to your own CUDA version (e.g. mxnet_cu100 for CUDA 10.0).\n",
        "python3 -m pip install -U \"mxnet_cu101<2.0.0\"\n",
        "python3 -m pip install autogluon"
      ],
      "id": "78ffb910",
      "execution_count": null,
      "outputs": []
    },
    {
      "cell_type": "markdown",
      "metadata": {},
      "source": [
        "### 拟合模型和结果预测\n"
      ],
      "id": "de80fa95"
    },
    {
      "cell_type": "code",
      "metadata": {},
      "source": [
        "from autogluon.tabular import TabularPredictor\n",
        "predictor = TabularPredictor(label=COLUMN_NAME).fit(train_data=TRAIN_DATA.csv)\n",
        "predictions = predictor.predict(TEST_DATA.csv)"
      ],
      "id": "b749dcc6",
      "execution_count": null,
      "outputs": []
    },
    {
      "cell_type": "markdown",
      "metadata": {},
      "source": [
        "# 生存数据的深度学习模型框架\n",
        "\n",
        "## Materials for auto-survival\n",
        "\n",
        "- Blog: [auton-survival: An Open-Source Package for Regression, Counterfactual Estimation, Evaluation and Phenotyping Censored Time-to-Event Data](https://blog.ml.cmu.edu/2022/08/05/auton-survival-an-open-source-package-for-regression-counterfactual-estimation-evaluation-and-phenotyping-censored-time-to-event-data/)\n",
        "- Paper: [auton-survival: an Open-Source Package for Regression, Counterfactual Estimation, Evaluation and Phenotyping with Censored Time-to-Event Data](https://arxiv.org/abs/2204.07276)\n",
        "- Documentation: [auton_survival documentation](https://autonlab.org/auton-survival/)\n",
        "- Jupyter Notebook examples: [auton_survival examples](https://nbviewer.org/github/autonlab/auton-survival/tree/master/examples/)\n",
        "\n",
        "## Smaller papers\n",
        "\n",
        "[Chirag Nagpal](https://chiragnagpal.github.io/)\n",
        "\n",
        "- [Counterfactual Phenotyping with Censored Time-to-Events](https://arxiv.org/abs/2202.11089)\n",
        "- [Deep Cox Mixtures for Survival Regression.](https://proceedings.mlr.press/v149/nagpal21a/nagpal21a.pdf)\n",
        "- [Deep Survival Machines: Fully Parametric Survival Regression and Representation Learning for Censored Data with Competing Risks](https://arxiv.org/abs/2003.01176)\n",
        "\n",
        "\n",
        "# 合成数据\n",
        "\n",
        "- CTGAN, Conditional General Adversarial Networks: [CTGAN using python](https://towardsdatascience.com/5-best-python-synthetic-data-generators-and-how-to-use-them-when-you-lack-data-f62bcf62d43c)\n",
        "- SDV, Synthetic Data Vault: [SDV using python](https://towardsdatascience.com/top-3-python-packages-to-generate-synthetic-data-33a351a5de0c)\n"
      ],
      "id": "ed761cc5"
    }
  ],
  "metadata": {
    "kernelspec": {
      "name": "python3",
      "language": "python",
      "display_name": "Python 3 (ipykernel)"
    }
  },
  "nbformat": 4,
  "nbformat_minor": 5
}